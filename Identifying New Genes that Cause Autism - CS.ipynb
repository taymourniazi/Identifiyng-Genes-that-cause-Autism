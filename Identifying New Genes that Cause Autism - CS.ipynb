{
 "cells": [
  {
   "cell_type": "markdown",
   "metadata": {},
   "source": [
    "#  Protein-Protein Interaction Network"
   ]
  },
  {
   "cell_type": "code",
   "execution_count": 3,
   "metadata": {},
   "outputs": [],
   "source": [
    "library(igraph)\n",
    "biogrid = read.delim(\"./BIOGRID.txt\",stringsAsFactors = F)"
   ]
  },
  {
   "cell_type": "code",
   "execution_count": 4,
   "metadata": {},
   "outputs": [
    {
     "data": {
      "text/html": [
       "<ol class=list-inline>\n",
       "\t<li>'X.BioGRID.Interaction.ID'</li>\n",
       "\t<li>'Entrez.Gene.Interactor.A'</li>\n",
       "\t<li>'Entrez.Gene.Interactor.B'</li>\n",
       "\t<li>'BioGRID.ID.Interactor.A'</li>\n",
       "\t<li>'BioGRID.ID.Interactor.B'</li>\n",
       "\t<li>'Systematic.Name.Interactor.A'</li>\n",
       "\t<li>'Systematic.Name.Interactor.B'</li>\n",
       "\t<li>'Official.Symbol.Interactor.A'</li>\n",
       "\t<li>'Official.Symbol.Interactor.B'</li>\n",
       "\t<li>'Synonyms.Interactor.A'</li>\n",
       "\t<li>'Synonyms.Interactor.B'</li>\n",
       "\t<li>'Experimental.System'</li>\n",
       "\t<li>'Experimental.System.Type'</li>\n",
       "\t<li>'Author'</li>\n",
       "\t<li>'Pubmed.ID'</li>\n",
       "\t<li>'Organism.Interactor.A'</li>\n",
       "\t<li>'Organism.Interactor.B'</li>\n",
       "\t<li>'Throughput'</li>\n",
       "\t<li>'Score'</li>\n",
       "\t<li>'Modification'</li>\n",
       "\t<li>'Phenotypes'</li>\n",
       "\t<li>'Qualifications'</li>\n",
       "\t<li>'Tags'</li>\n",
       "\t<li>'Source.Database'</li>\n",
       "</ol>\n"
      ],
      "text/latex": [
       "\\begin{enumerate*}\n",
       "\\item 'X.BioGRID.Interaction.ID'\n",
       "\\item 'Entrez.Gene.Interactor.A'\n",
       "\\item 'Entrez.Gene.Interactor.B'\n",
       "\\item 'BioGRID.ID.Interactor.A'\n",
       "\\item 'BioGRID.ID.Interactor.B'\n",
       "\\item 'Systematic.Name.Interactor.A'\n",
       "\\item 'Systematic.Name.Interactor.B'\n",
       "\\item 'Official.Symbol.Interactor.A'\n",
       "\\item 'Official.Symbol.Interactor.B'\n",
       "\\item 'Synonyms.Interactor.A'\n",
       "\\item 'Synonyms.Interactor.B'\n",
       "\\item 'Experimental.System'\n",
       "\\item 'Experimental.System.Type'\n",
       "\\item 'Author'\n",
       "\\item 'Pubmed.ID'\n",
       "\\item 'Organism.Interactor.A'\n",
       "\\item 'Organism.Interactor.B'\n",
       "\\item 'Throughput'\n",
       "\\item 'Score'\n",
       "\\item 'Modification'\n",
       "\\item 'Phenotypes'\n",
       "\\item 'Qualifications'\n",
       "\\item 'Tags'\n",
       "\\item 'Source.Database'\n",
       "\\end{enumerate*}\n"
      ],
      "text/markdown": [
       "1. 'X.BioGRID.Interaction.ID'\n",
       "2. 'Entrez.Gene.Interactor.A'\n",
       "3. 'Entrez.Gene.Interactor.B'\n",
       "4. 'BioGRID.ID.Interactor.A'\n",
       "5. 'BioGRID.ID.Interactor.B'\n",
       "6. 'Systematic.Name.Interactor.A'\n",
       "7. 'Systematic.Name.Interactor.B'\n",
       "8. 'Official.Symbol.Interactor.A'\n",
       "9. 'Official.Symbol.Interactor.B'\n",
       "10. 'Synonyms.Interactor.A'\n",
       "11. 'Synonyms.Interactor.B'\n",
       "12. 'Experimental.System'\n",
       "13. 'Experimental.System.Type'\n",
       "14. 'Author'\n",
       "15. 'Pubmed.ID'\n",
       "16. 'Organism.Interactor.A'\n",
       "17. 'Organism.Interactor.B'\n",
       "18. 'Throughput'\n",
       "19. 'Score'\n",
       "20. 'Modification'\n",
       "21. 'Phenotypes'\n",
       "22. 'Qualifications'\n",
       "23. 'Tags'\n",
       "24. 'Source.Database'\n",
       "\n",
       "\n"
      ],
      "text/plain": [
       " [1] \"X.BioGRID.Interaction.ID\"     \"Entrez.Gene.Interactor.A\"    \n",
       " [3] \"Entrez.Gene.Interactor.B\"     \"BioGRID.ID.Interactor.A\"     \n",
       " [5] \"BioGRID.ID.Interactor.B\"      \"Systematic.Name.Interactor.A\"\n",
       " [7] \"Systematic.Name.Interactor.B\" \"Official.Symbol.Interactor.A\"\n",
       " [9] \"Official.Symbol.Interactor.B\" \"Synonyms.Interactor.A\"       \n",
       "[11] \"Synonyms.Interactor.B\"        \"Experimental.System\"         \n",
       "[13] \"Experimental.System.Type\"     \"Author\"                      \n",
       "[15] \"Pubmed.ID\"                    \"Organism.Interactor.A\"       \n",
       "[17] \"Organism.Interactor.B\"        \"Throughput\"                  \n",
       "[19] \"Score\"                        \"Modification\"                \n",
       "[21] \"Phenotypes\"                   \"Qualifications\"              \n",
       "[23] \"Tags\"                         \"Source.Database\"             "
      ]
     },
     "metadata": {},
     "output_type": "display_data"
    }
   ],
   "source": [
    "#View biogrid\n",
    "names(biogrid)\n",
    "attach(biogrid)\n",
    "HSnet = graph.data.frame(data.frame(Entrez.Gene.Interactor.A,Entrez.Gene.Interactor.B),directed=F)"
   ]
  },
  {
   "cell_type": "code",
   "execution_count": 5,
   "metadata": {
    "collapsed": true
   },
   "outputs": [],
   "source": [
    "# You can uncomment the following line to plot the network, but it takes a long time\n",
    "#plot(HSnet)\n",
    "A = get.adjacency(HSnet)"
   ]
  },
  {
   "cell_type": "code",
   "execution_count": 6,
   "metadata": {},
   "outputs": [
    {
     "name": "stderr",
     "output_type": "stream",
     "text": [
      "   [[ suppressing 15 column names '6416', '84665', '90' ... ]]\n"
     ]
    },
    {
     "data": {
      "text/plain": [
       "15 x 15 sparse Matrix of class \"dgCMatrix\"\n",
       "                                    \n",
       "6416  1 . . . . . . . 1 . .  . . 2 .\n",
       "84665 . . . . . . . . . . .  . . . .\n",
       "90    . . 1 . . . . . . . .  . . . .\n",
       "2624  . . . . . . . . . . .  1 . . .\n",
       "6118  . . . . . . . 1 1 . .  . . . .\n",
       "375   . . . . . 1 1 . . . .  . . . .\n",
       "377   . . . . . 1 . . . . .  . . . .\n",
       "54464 . . . . 1 . . . . . .  . . . .\n",
       "351   1 . . . 1 . . . 1 . .  . . . .\n",
       "333   . . . . . . . . . . .  . . . .\n",
       "10370 . . . . . . . . . . .  8 . . .\n",
       "2033  . . . 1 . . . . . . 8 17 . . .\n",
       "338   . . . . . . . . . . .  . 1 . .\n",
       "409   2 . . . . . . . . . .  . . 1 .\n",
       "1436  . . . . . . . . . . .  . . . ."
      ]
     },
     "metadata": {},
     "output_type": "display_data"
    }
   ],
   "source": [
    "# multiple edges\n",
    "A[1:15,1:15]"
   ]
  },
  {
   "cell_type": "code",
   "execution_count": 7,
   "metadata": {},
   "outputs": [
    {
     "data": {
      "text/html": [
       "FALSE"
      ],
      "text/latex": [
       "FALSE"
      ],
      "text/markdown": [
       "FALSE"
      ],
      "text/plain": [
       "[1] FALSE"
      ]
     },
     "metadata": {},
     "output_type": "display_data"
    }
   ],
   "source": [
    "# the following is FALSE if the graph is not simple\n",
    "is.simple(HSnet)"
   ]
  },
  {
   "cell_type": "code",
   "execution_count": 8,
   "metadata": {},
   "outputs": [
    {
     "data": {
      "text/html": [
       "TRUE"
      ],
      "text/latex": [
       "TRUE"
      ],
      "text/markdown": [
       "TRUE"
      ],
      "text/plain": [
       "[1] TRUE"
      ]
     },
     "metadata": {},
     "output_type": "display_data"
    }
   ],
   "source": [
    "# remove multiple edges and self-loops\n",
    "HSnet = simplify(HSnet, remove.multiple = TRUE, remove.loops = TRUE,\n",
    "edge.attr.comb = getIgraphOpt(\"edge.attr.comb\"))\n",
    "is.simple(HSnet)\n",
    "A = get.adjacency(HSnet)"
   ]
  },
  {
   "cell_type": "code",
   "execution_count": 9,
   "metadata": {},
   "outputs": [
    {
     "name": "stderr",
     "output_type": "stream",
     "text": [
      "   [[ suppressing 15 column names '6416', '84665', '90' ... ]]\n"
     ]
    },
    {
     "data": {
      "text/plain": [
       "15 x 15 sparse Matrix of class \"dgCMatrix\"\n",
       "                                   \n",
       "6416  . . . . . . . . 1 . . . . 1 .\n",
       "84665 . . . . . . . . . . . . . . .\n",
       "90    . . . . . . . . . . . . . . .\n",
       "2624  . . . . . . . . . . . 1 . . .\n",
       "6118  . . . . . . . 1 1 . . . . . .\n",
       "375   . . . . . . 1 . . . . . . . .\n",
       "377   . . . . . 1 . . . . . . . . .\n",
       "54464 . . . . 1 . . . . . . . . . .\n",
       "351   1 . . . 1 . . . . . . . . . .\n",
       "333   . . . . . . . . . . . . . . .\n",
       "10370 . . . . . . . . . . . 1 . . .\n",
       "2033  . . . 1 . . . . . . 1 . . . .\n",
       "338   . . . . . . . . . . . . . . .\n",
       "409   1 . . . . . . . . . . . . . .\n",
       "1436  . . . . . . . . . . . . . . ."
      ]
     },
     "metadata": {},
     "output_type": "display_data"
    }
   ],
   "source": [
    "# only single edges now\n",
    "A[1:15,1:15]"
   ]
  },
  {
   "cell_type": "code",
   "execution_count": 10,
   "metadata": {
    "collapsed": true
   },
   "outputs": [],
   "source": [
    "# for this application, we remove nodes of very high degree; these are usually house-keeping\n",
    "# genes that are necessary to keep a cell alive, but are usually not specific to a particular\n",
    "# disease.\n",
    "overly.attached.proteins = which(degree(HSnet)>1000)\n",
    "HSnet = delete.vertices(HSnet, overly.attached.proteins )"
   ]
  },
  {
   "cell_type": "code",
   "execution_count": 11,
   "metadata": {},
   "outputs": [
    {
     "data": {
      "text/html": [
       "FALSE"
      ],
      "text/latex": [
       "FALSE"
      ],
      "text/markdown": [
       "FALSE"
      ],
      "text/plain": [
       "[1] FALSE"
      ]
     },
     "metadata": {},
     "output_type": "display_data"
    }
   ],
   "source": [
    "# the following is TRUE if the graph is connected.\n",
    "is.connected(HSnet)"
   ]
  },
  {
   "cell_type": "markdown",
   "metadata": {},
   "source": [
    "#                              Genes Causing Autism"
   ]
  },
  {
   "cell_type": "code",
   "execution_count": 12,
   "metadata": {},
   "outputs": [
    {
     "data": {
      "text/html": [
       "<ol class=list-inline>\n",
       "\t<li>'Symbol'</li>\n",
       "\t<li>'ID'</li>\n",
       "</ol>\n"
      ],
      "text/latex": [
       "\\begin{enumerate*}\n",
       "\\item 'Symbol'\n",
       "\\item 'ID'\n",
       "\\end{enumerate*}\n"
      ],
      "text/markdown": [
       "1. 'Symbol'\n",
       "2. 'ID'\n",
       "\n",
       "\n"
      ],
      "text/plain": [
       "[1] \"Symbol\" \"ID\"    "
      ]
     },
     "metadata": {},
     "output_type": "display_data"
    }
   ],
   "source": [
    "# read the gene-id table\n",
    "gene.table = read.delim(\"gene-id-table.txt\")\n",
    "names(gene.table)"
   ]
  },
  {
   "cell_type": "code",
   "execution_count": 13,
   "metadata": {},
   "outputs": [
    {
     "name": "stderr",
     "output_type": "stream",
     "text": [
      "The following object is masked from biogrid:\n",
      "\n",
      "    Score\n",
      "\n"
     ]
    },
    {
     "data": {
      "text/html": [
       "<ol class=list-inline>\n",
       "\t<li>'Gene.Symbol'</li>\n",
       "\t<li>'Gene.Name'</li>\n",
       "\t<li>'Score.Details'</li>\n",
       "\t<li>'Score'</li>\n",
       "\t<li>'Evidence'</li>\n",
       "\t<li>'References'</li>\n",
       "\t<li>'Scored.By'</li>\n",
       "</ol>\n"
      ],
      "text/latex": [
       "\\begin{enumerate*}\n",
       "\\item 'Gene.Symbol'\n",
       "\\item 'Gene.Name'\n",
       "\\item 'Score.Details'\n",
       "\\item 'Score'\n",
       "\\item 'Evidence'\n",
       "\\item 'References'\n",
       "\\item 'Scored.By'\n",
       "\\end{enumerate*}\n"
      ],
      "text/markdown": [
       "1. 'Gene.Symbol'\n",
       "2. 'Gene.Name'\n",
       "3. 'Score.Details'\n",
       "4. 'Score'\n",
       "5. 'Evidence'\n",
       "6. 'References'\n",
       "7. 'Scored.By'\n",
       "\n",
       "\n"
      ],
      "text/plain": [
       "[1] \"Gene.Symbol\"   \"Gene.Name\"     \"Score.Details\" \"Score\"        \n",
       "[5] \"Evidence\"      \"References\"    \"Scored.By\"    "
      ]
     },
     "metadata": {},
     "output_type": "display_data"
    }
   ],
   "source": [
    "# read the scores for Autism\n",
    "gene.score = read.csv(\"gene-score.csv\",stringsAsFactors=F)\n",
    "attach(gene.score)\n",
    "names(gene.score)"
   ]
  },
  {
   "cell_type": "code",
   "execution_count": 14,
   "metadata": {},
   "outputs": [
    {
     "data": {
      "text/html": [
       "<ol class=list-inline>\n",
       "\t<li>'4'</li>\n",
       "\t<li>'3'</li>\n",
       "\t<li>'1S'</li>\n",
       "\t<li>'S'</li>\n",
       "\t<li>'6'</li>\n",
       "\t<li>'5'</li>\n",
       "\t<li>'1'</li>\n",
       "\t<li>'2S'</li>\n",
       "\t<li>'2'</li>\n",
       "\t<li>'3S'</li>\n",
       "\t<li>'4S'</li>\n",
       "</ol>\n"
      ],
      "text/latex": [
       "\\begin{enumerate*}\n",
       "\\item '4'\n",
       "\\item '3'\n",
       "\\item '1S'\n",
       "\\item 'S'\n",
       "\\item '6'\n",
       "\\item '5'\n",
       "\\item '1'\n",
       "\\item '2S'\n",
       "\\item '2'\n",
       "\\item '3S'\n",
       "\\item '4S'\n",
       "\\end{enumerate*}\n"
      ],
      "text/markdown": [
       "1. '4'\n",
       "2. '3'\n",
       "3. '1S'\n",
       "4. 'S'\n",
       "5. '6'\n",
       "6. '5'\n",
       "7. '1'\n",
       "8. '2S'\n",
       "9. '2'\n",
       "10. '3S'\n",
       "11. '4S'\n",
       "\n",
       "\n"
      ],
      "text/plain": [
       " [1] \"4\"  \"3\"  \"1S\" \"S\"  \"6\"  \"5\"  \"1\"  \"2S\" \"2\"  \"3S\" \"4S\""
      ]
     },
     "metadata": {},
     "output_type": "display_data"
    }
   ],
   "source": [
    "# display the scores\n",
    "unique(Score)"
   ]
  },
  {
   "cell_type": "code",
   "execution_count": 15,
   "metadata": {
    "collapsed": true
   },
   "outputs": [],
   "source": [
    "# identify the genes that have significant scores\n",
    "signif.scores = c(\"3\",\"1S\",\"1\",\"2S\",\"2\",\"3S\")\n",
    "signif.genes = Gene.Symbol[which(Score %in% signif.scores)]\n",
    "signif.EIDs = gene.table[which(gene.table[,1] %in% signif.genes),2]"
   ]
  },
  {
   "cell_type": "code",
   "execution_count": 16,
   "metadata": {},
   "outputs": [
    {
     "data": {
      "text/html": [
       "100"
      ],
      "text/latex": [
       "100"
      ],
      "text/markdown": [
       "100"
      ],
      "text/plain": [
       "[1] 100"
      ]
     },
     "metadata": {},
     "output_type": "display_data"
    }
   ],
   "source": [
    "# Now use the protein interaction network HSnet, created previously, to determine the genes\n",
    "# that are present in the network and known to cause Autism\n",
    "geneEIDs = as.numeric(V(HSnet)$name)\n",
    "HSnetN = HSnet\n",
    "V(HSnetN)$name = 1:length(V(HSnet))\n",
    "signif.ids = which(geneEIDs %in% signif.EIDs)\n",
    "length(signif.ids)"
   ]
  },
  {
   "cell_type": "markdown",
   "metadata": {},
   "source": [
    "# Building an Autism Interactome"
   ]
  },
  {
   "cell_type": "code",
   "execution_count": 18,
   "metadata": {},
   "outputs": [
    {
     "name": "stderr",
     "output_type": "stream",
     "text": [
      "Warning message in get.shortest.paths(graph, nodes[inds[1, 1]], free_terminals[inds[1, :\n",
      "\"At structural_properties.c:740 :Couldn't reach some vertices\"Warning message in get.shortest.paths(graph, nodes[inds[1, 1]], free_terminals[inds[1, :\n",
      "\"At structural_properties.c:740 :Couldn't reach some vertices\"Warning message in get.shortest.paths(graph, nodes[inds[1, 1]], free_terminals[inds[1, :\n",
      "\"At structural_properties.c:740 :Couldn't reach some vertices\"Warning message in get.shortest.paths(graph, nodes[inds[1, 1]], free_terminals[inds[1, :\n",
      "\"At structural_properties.c:740 :Couldn't reach some vertices\"Warning message in get.shortest.paths(graph, nodes[inds[1, 1]], free_terminals[inds[1, :\n",
      "\"At structural_properties.c:740 :Couldn't reach some vertices\""
     ]
    },
    {
     "data": {
      "text/plain": [
       "   user  system elapsed \n",
       "  36.72    0.25   38.16 "
      ]
     },
     "metadata": {},
     "output_type": "display_data"
    }
   ],
   "source": [
    "source('steiner_tree.R')\n",
    "# Identify the Steiner Tree and note the time this function call takes\n",
    "system.time(HS.stree <- steiner_tree(terminals=signif.ids, graph=HSnetN))"
   ]
  },
  {
   "cell_type": "code",
   "execution_count": 19,
   "metadata": {},
   "outputs": [
    {
     "data": {
      "text/html": [
       "95"
      ],
      "text/latex": [
       "95"
      ],
      "text/markdown": [
       "95"
      ],
      "text/plain": [
       "[1] 95"
      ]
     },
     "metadata": {},
     "output_type": "display_data"
    }
   ],
   "source": [
    "# Output the overlap between significant Autism and vertices in the Steiner Tree\n",
    "length(intersect(signif.ids,V(HS.stree)$name))\n",
    "labels = gene.table[as.numeric(V(HS.stree)$name),1]\n",
    "labels = as.character(labels)"
   ]
  },
  {
   "cell_type": "code",
   "execution_count": 20,
   "metadata": {
    "collapsed": true
   },
   "outputs": [],
   "source": [
    "# identify the genes that have significant scores, and assign the color “red” to them\n",
    "colors = rep(\"skyblue\",length(V(HS.stree)))\n",
    "colors[which(as.numeric(V(HS.stree)$name) %in% signif.ids)] = \"red\""
   ]
  },
  {
   "cell_type": "code",
   "execution_count": 21,
   "metadata": {
    "collapsed": true
   },
   "outputs": [],
   "source": [
    "# assign colors to the vertices of the tree\n",
    "V(HS.stree)$color = colors"
   ]
  },
  {
   "cell_type": "code",
   "execution_count": 22,
   "metadata": {},
   "outputs": [
    {
     "data": {
      "text/plain": [
       "   user  system elapsed \n",
       "   0.36    0.00    1.23 "
      ]
     },
     "metadata": {},
     "output_type": "display_data"
    },
    {
     "data": {
      "text/html": [
       "<strong>png:</strong> 2"
      ],
      "text/latex": [
       "\\textbf{png:} 2"
      ],
      "text/markdown": [
       "**png:** 2"
      ],
      "text/plain": [
       "png \n",
       "  2 "
      ]
     },
     "metadata": {},
     "output_type": "display_data"
    }
   ],
   "source": [
    "# plot and save to file\n",
    "pdf(\"ASD_interactome.pdf\",width = 12, height = 12)\n",
    "system.time(plot(HS.stree,vertex.label=labels,vertex.size=5,vertex.label.cex=0.8))\n",
    "dev.off()"
   ]
  },
  {
   "cell_type": "markdown",
   "metadata": {},
   "source": [
    "# Analysis and Properties of the Autism Interactome"
   ]
  },
  {
   "cell_type": "code",
   "execution_count": 24,
   "metadata": {},
   "outputs": [
    {
     "data": {
      "text/html": [
       "17796"
      ],
      "text/latex": [
       "17796"
      ],
      "text/markdown": [
       "17796"
      ],
      "text/plain": [
       "[1] 17796"
      ]
     },
     "metadata": {},
     "output_type": "display_data"
    }
   ],
   "source": [
    "library(sna, quietly=TRUE)\n",
    "# a function that computes the connectivity scores for a network\n",
    "# here the scores are diameters of the network and average geodesic distance between any\n",
    "# two nodes\n",
    "c.scores = function(graph) {\n",
    "n = length(V(graph))\n",
    "sp = shortest.paths(graph)\n",
    "neighbors = sum(sp==1)/2\n",
    "neighbors2 = sum(sp==2)/2\n",
    "return(c(2*neighbors/(n*(n-1)),2*neighbors2/(n*(n-1))))\n",
    "}\n",
    "clus = clusters(HSnetN, mode=c(\"weak\"))\n",
    "connected.ids = which(clus$membership==1)\n",
    "length(connected.ids)"
   ]
  },
  {
   "cell_type": "code",
   "execution_count": 25,
   "metadata": {
    "collapsed": true
   },
   "outputs": [],
   "source": [
    "# Generate N randomly chosen subnetworks. Note: this will take a while if N is set large.\n",
    "N = 50\n",
    "strees = list(N)\n",
    "effs = numeric(N)\n",
    "nei = numeric(N)\n",
    "nei2 = numeric(N)\n",
    "for (i in 1:N){\n",
    "    new.ids<-sample(x=connected.ids,size=length(signif.ids))\n",
    "    strees[[i]] <- steiner_tree(terminals=new.ids, graph=HSnetN)\n",
    "    effs[i]<-efficiency(get.adjacency(strees[[i]],sparse=F))\n",
    "    cs<-c.scores(strees[[i]])\n",
    "    nei[i]<-cs[1]\n",
    "    nei2[i]<-cs[2]\n",
    "}"
   ]
  },
  {
   "cell_type": "code",
   "execution_count": 28,
   "metadata": {},
   "outputs": [
    {
     "data": {
      "text/html": [
       "<ol class=list-inline>\n",
       "\t<li>0.982366343122874</li>\n",
       "\t<li>0.980189859894387</li>\n",
       "\t<li>0.980883006737116</li>\n",
       "\t<li>0.97992544714613</li>\n",
       "\t<li>0.98024194835456</li>\n",
       "\t<li>0.977816080947365</li>\n",
       "\t<li>0.983154974237019</li>\n",
       "\t<li>0.981705108078734</li>\n",
       "\t<li>0.979931962173465</li>\n",
       "\t<li>0.98492428339643</li>\n",
       "\t<li>0.979983763052546</li>\n",
       "\t<li>0.981355102040816</li>\n",
       "\t<li>0.983666278479501</li>\n",
       "\t<li>0.97759932375317</li>\n",
       "\t<li>0.982537918175625</li>\n",
       "\t<li>0.975546431590388</li>\n",
       "\t<li>0.97733729338843</li>\n",
       "\t<li>0.984567901234568</li>\n",
       "\t<li>0.974274482599144</li>\n",
       "\t<li>0.982250949009952</li>\n",
       "\t<li>0.976851851851852</li>\n",
       "\t<li>0.981569560047562</li>\n",
       "\t<li>0.978456790123457</li>\n",
       "\t<li>0.979518193056901</li>\n",
       "\t<li>0.975163593099346</li>\n",
       "\t<li>0.983307951864791</li>\n",
       "\t<li>0.984663704099703</li>\n",
       "\t<li>0.985051903114187</li>\n",
       "\t<li>0.984197530864197</li>\n",
       "\t<li>0.985229137735134</li>\n",
       "\t<li>0.97789345592212</li>\n",
       "\t<li>0.978155102040816</li>\n",
       "\t<li>0.983950617283951</li>\n",
       "\t<li>0.973708548024838</li>\n",
       "\t<li>0.979785969084423</li>\n",
       "\t<li>0.979342585829072</li>\n",
       "\t<li>0.97630423553719</li>\n",
       "\t<li>0.973827160493827</li>\n",
       "\t<li>0.979876543209876</li>\n",
       "\t<li>0.978965176034984</li>\n",
       "\t<li>0.982987755102041</li>\n",
       "\t<li>0.978089795918367</li>\n",
       "\t<li>0.977717459916677</li>\n",
       "\t<li>0.975318772882212</li>\n",
       "\t<li>0.97687477357807</li>\n",
       "\t<li>0.977285018929151</li>\n",
       "\t<li>0.981767736821245</li>\n",
       "\t<li>0.978593710782029</li>\n",
       "\t<li>0.981391776937618</li>\n",
       "\t<li>0.977936319196724</li>\n",
       "</ol>\n"
      ],
      "text/latex": [
       "\\begin{enumerate*}\n",
       "\\item 0.982366343122874\n",
       "\\item 0.980189859894387\n",
       "\\item 0.980883006737116\n",
       "\\item 0.97992544714613\n",
       "\\item 0.98024194835456\n",
       "\\item 0.977816080947365\n",
       "\\item 0.983154974237019\n",
       "\\item 0.981705108078734\n",
       "\\item 0.979931962173465\n",
       "\\item 0.98492428339643\n",
       "\\item 0.979983763052546\n",
       "\\item 0.981355102040816\n",
       "\\item 0.983666278479501\n",
       "\\item 0.97759932375317\n",
       "\\item 0.982537918175625\n",
       "\\item 0.975546431590388\n",
       "\\item 0.97733729338843\n",
       "\\item 0.984567901234568\n",
       "\\item 0.974274482599144\n",
       "\\item 0.982250949009952\n",
       "\\item 0.976851851851852\n",
       "\\item 0.981569560047562\n",
       "\\item 0.978456790123457\n",
       "\\item 0.979518193056901\n",
       "\\item 0.975163593099346\n",
       "\\item 0.983307951864791\n",
       "\\item 0.984663704099703\n",
       "\\item 0.985051903114187\n",
       "\\item 0.984197530864197\n",
       "\\item 0.985229137735134\n",
       "\\item 0.97789345592212\n",
       "\\item 0.978155102040816\n",
       "\\item 0.983950617283951\n",
       "\\item 0.973708548024838\n",
       "\\item 0.979785969084423\n",
       "\\item 0.979342585829072\n",
       "\\item 0.97630423553719\n",
       "\\item 0.973827160493827\n",
       "\\item 0.979876543209876\n",
       "\\item 0.978965176034984\n",
       "\\item 0.982987755102041\n",
       "\\item 0.978089795918367\n",
       "\\item 0.977717459916677\n",
       "\\item 0.975318772882212\n",
       "\\item 0.97687477357807\n",
       "\\item 0.977285018929151\n",
       "\\item 0.981767736821245\n",
       "\\item 0.978593710782029\n",
       "\\item 0.981391776937618\n",
       "\\item 0.977936319196724\n",
       "\\end{enumerate*}\n"
      ],
      "text/markdown": [
       "1. 0.982366343122874\n",
       "2. 0.980189859894387\n",
       "3. 0.980883006737116\n",
       "4. 0.97992544714613\n",
       "5. 0.98024194835456\n",
       "6. 0.977816080947365\n",
       "7. 0.983154974237019\n",
       "8. 0.981705108078734\n",
       "9. 0.979931962173465\n",
       "10. 0.98492428339643\n",
       "11. 0.979983763052546\n",
       "12. 0.981355102040816\n",
       "13. 0.983666278479501\n",
       "14. 0.97759932375317\n",
       "15. 0.982537918175625\n",
       "16. 0.975546431590388\n",
       "17. 0.97733729338843\n",
       "18. 0.984567901234568\n",
       "19. 0.974274482599144\n",
       "20. 0.982250949009952\n",
       "21. 0.976851851851852\n",
       "22. 0.981569560047562\n",
       "23. 0.978456790123457\n",
       "24. 0.979518193056901\n",
       "25. 0.975163593099346\n",
       "26. 0.983307951864791\n",
       "27. 0.984663704099703\n",
       "28. 0.985051903114187\n",
       "29. 0.984197530864197\n",
       "30. 0.985229137735134\n",
       "31. 0.97789345592212\n",
       "32. 0.978155102040816\n",
       "33. 0.983950617283951\n",
       "34. 0.973708548024838\n",
       "35. 0.979785969084423\n",
       "36. 0.979342585829072\n",
       "37. 0.97630423553719\n",
       "38. 0.973827160493827\n",
       "39. 0.979876543209876\n",
       "40. 0.978965176034984\n",
       "41. 0.982987755102041\n",
       "42. 0.978089795918367\n",
       "43. 0.977717459916677\n",
       "44. 0.975318772882212\n",
       "45. 0.97687477357807\n",
       "46. 0.977285018929151\n",
       "47. 0.981767736821245\n",
       "48. 0.978593710782029\n",
       "49. 0.981391776937618\n",
       "50. 0.977936319196724\n",
       "\n",
       "\n"
      ],
      "text/plain": [
       " [1] 0.9823663 0.9801899 0.9808830 0.9799254 0.9802419 0.9778161 0.9831550\n",
       " [8] 0.9817051 0.9799320 0.9849243 0.9799838 0.9813551 0.9836663 0.9775993\n",
       "[15] 0.9825379 0.9755464 0.9773373 0.9845679 0.9742745 0.9822509 0.9768519\n",
       "[22] 0.9815696 0.9784568 0.9795182 0.9751636 0.9833080 0.9846637 0.9850519\n",
       "[29] 0.9841975 0.9852291 0.9778935 0.9781551 0.9839506 0.9737085 0.9797860\n",
       "[36] 0.9793426 0.9763042 0.9738272 0.9798765 0.9789652 0.9829878 0.9780898\n",
       "[43] 0.9777175 0.9753188 0.9768748 0.9772850 0.9817677 0.9785937 0.9813918\n",
       "[50] 0.9779363"
      ]
     },
     "metadata": {},
     "output_type": "display_data"
    },
    {
     "data": {
      "text/html": [
       "<ol class=list-inline>\n",
       "\t<li>0.0230912476722533</li>\n",
       "\t<li>0.0251957986764617</li>\n",
       "\t<li>0.0248198014415885</li>\n",
       "\t<li>0.0257717938256494</li>\n",
       "\t<li>0.0252650288833873</li>\n",
       "\t<li>0.0276772678220022</li>\n",
       "\t<li>0.0224630541871921</li>\n",
       "\t<li>0.023659400708581</li>\n",
       "\t<li>0.025512104283054</li>\n",
       "\t<li>0.0207689205538379</li>\n",
       "\t<li>0.0251740462266778</li>\n",
       "\t<li>0.0242207792207792</li>\n",
       "\t<li>0.02167973390354</li>\n",
       "\t<li>0.0277427490542245</li>\n",
       "\t<li>0.0233105218135158</li>\n",
       "\t<li>0.0297844232270462</li>\n",
       "\t<li>0.0281843862352337</li>\n",
       "\t<li>0.0208717004297115</li>\n",
       "\t<li>0.030935541371974</li>\n",
       "\t<li>0.0234598123215014</li>\n",
       "\t<li>0.0285451197053407</li>\n",
       "\t<li>0.0240394088669951</li>\n",
       "\t<li>0.0269490484960098</li>\n",
       "\t<li>0.0261112218457245</li>\n",
       "\t<li>0.0307464892830746</li>\n",
       "\t<li>0.0220361130909955</li>\n",
       "\t<li>0.0209952827054681</li>\n",
       "\t<li>0.0207086343309254</li>\n",
       "\t<li>0.0212400245549417</li>\n",
       "\t<li>0.0202749356600339</li>\n",
       "\t<li>0.0277591074069095</li>\n",
       "\t<li>0.0274025974025974</li>\n",
       "\t<li>0.0214855739717618</li>\n",
       "\t<li>0.0318555008210181</li>\n",
       "\t<li>0.0258128078817734</li>\n",
       "\t<li>0.0259226968904388</li>\n",
       "\t<li>0.0292116076014381</li>\n",
       "\t<li>0.0315531000613874</li>\n",
       "\t<li>0.025537139349294</li>\n",
       "\t<li>0.0265346283247635</li>\n",
       "\t<li>0.0225974025974026</li>\n",
       "\t<li>0.0274675324675325</li>\n",
       "\t<li>0.0277446487979411</li>\n",
       "\t<li>0.0301299353461804</li>\n",
       "\t<li>0.0284633399387498</li>\n",
       "\t<li>0.0283640274230407</li>\n",
       "\t<li>0.0238423645320197</li>\n",
       "\t<li>0.02723125178215</li>\n",
       "\t<li>0.0239130434782609</li>\n",
       "\t<li>0.0276518883415435</li>\n",
       "</ol>\n"
      ],
      "text/latex": [
       "\\begin{enumerate*}\n",
       "\\item 0.0230912476722533\n",
       "\\item 0.0251957986764617\n",
       "\\item 0.0248198014415885\n",
       "\\item 0.0257717938256494\n",
       "\\item 0.0252650288833873\n",
       "\\item 0.0276772678220022\n",
       "\\item 0.0224630541871921\n",
       "\\item 0.023659400708581\n",
       "\\item 0.025512104283054\n",
       "\\item 0.0207689205538379\n",
       "\\item 0.0251740462266778\n",
       "\\item 0.0242207792207792\n",
       "\\item 0.02167973390354\n",
       "\\item 0.0277427490542245\n",
       "\\item 0.0233105218135158\n",
       "\\item 0.0297844232270462\n",
       "\\item 0.0281843862352337\n",
       "\\item 0.0208717004297115\n",
       "\\item 0.030935541371974\n",
       "\\item 0.0234598123215014\n",
       "\\item 0.0285451197053407\n",
       "\\item 0.0240394088669951\n",
       "\\item 0.0269490484960098\n",
       "\\item 0.0261112218457245\n",
       "\\item 0.0307464892830746\n",
       "\\item 0.0220361130909955\n",
       "\\item 0.0209952827054681\n",
       "\\item 0.0207086343309254\n",
       "\\item 0.0212400245549417\n",
       "\\item 0.0202749356600339\n",
       "\\item 0.0277591074069095\n",
       "\\item 0.0274025974025974\n",
       "\\item 0.0214855739717618\n",
       "\\item 0.0318555008210181\n",
       "\\item 0.0258128078817734\n",
       "\\item 0.0259226968904388\n",
       "\\item 0.0292116076014381\n",
       "\\item 0.0315531000613874\n",
       "\\item 0.025537139349294\n",
       "\\item 0.0265346283247635\n",
       "\\item 0.0225974025974026\n",
       "\\item 0.0274675324675325\n",
       "\\item 0.0277446487979411\n",
       "\\item 0.0301299353461804\n",
       "\\item 0.0284633399387498\n",
       "\\item 0.0283640274230407\n",
       "\\item 0.0238423645320197\n",
       "\\item 0.02723125178215\n",
       "\\item 0.0239130434782609\n",
       "\\item 0.0276518883415435\n",
       "\\end{enumerate*}\n"
      ],
      "text/markdown": [
       "1. 0.0230912476722533\n",
       "2. 0.0251957986764617\n",
       "3. 0.0248198014415885\n",
       "4. 0.0257717938256494\n",
       "5. 0.0252650288833873\n",
       "6. 0.0276772678220022\n",
       "7. 0.0224630541871921\n",
       "8. 0.023659400708581\n",
       "9. 0.025512104283054\n",
       "10. 0.0207689205538379\n",
       "11. 0.0251740462266778\n",
       "12. 0.0242207792207792\n",
       "13. 0.02167973390354\n",
       "14. 0.0277427490542245\n",
       "15. 0.0233105218135158\n",
       "16. 0.0297844232270462\n",
       "17. 0.0281843862352337\n",
       "18. 0.0208717004297115\n",
       "19. 0.030935541371974\n",
       "20. 0.0234598123215014\n",
       "21. 0.0285451197053407\n",
       "22. 0.0240394088669951\n",
       "23. 0.0269490484960098\n",
       "24. 0.0261112218457245\n",
       "25. 0.0307464892830746\n",
       "26. 0.0220361130909955\n",
       "27. 0.0209952827054681\n",
       "28. 0.0207086343309254\n",
       "29. 0.0212400245549417\n",
       "30. 0.0202749356600339\n",
       "31. 0.0277591074069095\n",
       "32. 0.0274025974025974\n",
       "33. 0.0214855739717618\n",
       "34. 0.0318555008210181\n",
       "35. 0.0258128078817734\n",
       "36. 0.0259226968904388\n",
       "37. 0.0292116076014381\n",
       "38. 0.0315531000613874\n",
       "39. 0.025537139349294\n",
       "40. 0.0265346283247635\n",
       "41. 0.0225974025974026\n",
       "42. 0.0274675324675325\n",
       "43. 0.0277446487979411\n",
       "44. 0.0301299353461804\n",
       "45. 0.0284633399387498\n",
       "46. 0.0283640274230407\n",
       "47. 0.0238423645320197\n",
       "48. 0.02723125178215\n",
       "49. 0.0239130434782609\n",
       "50. 0.0276518883415435\n",
       "\n",
       "\n"
      ],
      "text/plain": [
       " [1] 0.02309125 0.02519580 0.02481980 0.02577179 0.02526503 0.02767727\n",
       " [7] 0.02246305 0.02365940 0.02551210 0.02076892 0.02517405 0.02422078\n",
       "[13] 0.02167973 0.02774275 0.02331052 0.02978442 0.02818439 0.02087170\n",
       "[19] 0.03093554 0.02345981 0.02854512 0.02403941 0.02694905 0.02611122\n",
       "[25] 0.03074649 0.02203611 0.02099528 0.02070863 0.02124002 0.02027494\n",
       "[31] 0.02775911 0.02740260 0.02148557 0.03185550 0.02581281 0.02592270\n",
       "[37] 0.02921161 0.03155310 0.02553714 0.02653463 0.02259740 0.02746753\n",
       "[43] 0.02774465 0.03012994 0.02846334 0.02836403 0.02384236 0.02723125\n",
       "[49] 0.02391304 0.02765189"
      ]
     },
     "metadata": {},
     "output_type": "display_data"
    },
    {
     "data": {
      "text/html": [
       "<ol class=list-inline>\n",
       "\t<li>0.122656734947238</li>\n",
       "\t<li>0.142250015178192</li>\n",
       "\t<li>0.134774921800626</li>\n",
       "\t<li>0.134502923976608</li>\n",
       "\t<li>0.141877737573795</li>\n",
       "\t<li>0.16409572779788</li>\n",
       "\t<li>0.111986863711002</li>\n",
       "\t<li>0.127784783522488</li>\n",
       "\t<li>0.138112973308504</li>\n",
       "\t<li>0.130326656808711</li>\n",
       "\t<li>0.15332776385408</li>\n",
       "\t<li>0.127727272727273</li>\n",
       "\t<li>0.107448325017819</li>\n",
       "\t<li>0.143998078424308</li>\n",
       "\t<li>0.118049615055603</li>\n",
       "\t<li>0.158890290037831</li>\n",
       "\t<li>0.160182331792501</li>\n",
       "\t<li>0.102701043585021</li>\n",
       "\t<li>0.176643091254097</li>\n",
       "\t<li>0.124031007751938</li>\n",
       "\t<li>0.162615101289134</li>\n",
       "\t<li>0.124860426929392</li>\n",
       "\t<li>0.148373235113567</li>\n",
       "\t<li>0.142116802870241</li>\n",
       "\t<li>0.18159645232816</li>\n",
       "\t<li>0.115407460204324</li>\n",
       "\t<li>0.102717427413461</li>\n",
       "\t<li>0.0990712074303406</li>\n",
       "\t<li>0.113750767341928</li>\n",
       "\t<li>0.0993660159437574</li>\n",
       "\t<li>0.165143164403818</li>\n",
       "\t<li>0.148896103896104</li>\n",
       "\t<li>0.114671577655003</li>\n",
       "\t<li>0.173596059113301</li>\n",
       "\t<li>0.13799671592775</li>\n",
       "\t<li>0.155536181342633</li>\n",
       "\t<li>0.165190035952748</li>\n",
       "\t<li>0.177532228360958</li>\n",
       "\t<li>0.150767341927563</li>\n",
       "\t<li>0.139846378467593</li>\n",
       "\t<li>0.117207792207792</li>\n",
       "\t<li>0.152272727272727</li>\n",
       "\t<li>0.153034963279141</li>\n",
       "\t<li>0.168978720733162</li>\n",
       "\t<li>0.164955263315919</li>\n",
       "\t<li>0.162790697674419</li>\n",
       "\t<li>0.127224958949097</li>\n",
       "\t<li>0.150841174793271</li>\n",
       "\t<li>0.123443008225617</li>\n",
       "\t<li>0.146600985221675</li>\n",
       "</ol>\n"
      ],
      "text/latex": [
       "\\begin{enumerate*}\n",
       "\\item 0.122656734947238\n",
       "\\item 0.142250015178192\n",
       "\\item 0.134774921800626\n",
       "\\item 0.134502923976608\n",
       "\\item 0.141877737573795\n",
       "\\item 0.16409572779788\n",
       "\\item 0.111986863711002\n",
       "\\item 0.127784783522488\n",
       "\\item 0.138112973308504\n",
       "\\item 0.130326656808711\n",
       "\\item 0.15332776385408\n",
       "\\item 0.127727272727273\n",
       "\\item 0.107448325017819\n",
       "\\item 0.143998078424308\n",
       "\\item 0.118049615055603\n",
       "\\item 0.158890290037831\n",
       "\\item 0.160182331792501\n",
       "\\item 0.102701043585021\n",
       "\\item 0.176643091254097\n",
       "\\item 0.124031007751938\n",
       "\\item 0.162615101289134\n",
       "\\item 0.124860426929392\n",
       "\\item 0.148373235113567\n",
       "\\item 0.142116802870241\n",
       "\\item 0.18159645232816\n",
       "\\item 0.115407460204324\n",
       "\\item 0.102717427413461\n",
       "\\item 0.0990712074303406\n",
       "\\item 0.113750767341928\n",
       "\\item 0.0993660159437574\n",
       "\\item 0.165143164403818\n",
       "\\item 0.148896103896104\n",
       "\\item 0.114671577655003\n",
       "\\item 0.173596059113301\n",
       "\\item 0.13799671592775\n",
       "\\item 0.155536181342633\n",
       "\\item 0.165190035952748\n",
       "\\item 0.177532228360958\n",
       "\\item 0.150767341927563\n",
       "\\item 0.139846378467593\n",
       "\\item 0.117207792207792\n",
       "\\item 0.152272727272727\n",
       "\\item 0.153034963279141\n",
       "\\item 0.168978720733162\n",
       "\\item 0.164955263315919\n",
       "\\item 0.162790697674419\n",
       "\\item 0.127224958949097\n",
       "\\item 0.150841174793271\n",
       "\\item 0.123443008225617\n",
       "\\item 0.146600985221675\n",
       "\\end{enumerate*}\n"
      ],
      "text/markdown": [
       "1. 0.122656734947238\n",
       "2. 0.142250015178192\n",
       "3. 0.134774921800626\n",
       "4. 0.134502923976608\n",
       "5. 0.141877737573795\n",
       "6. 0.16409572779788\n",
       "7. 0.111986863711002\n",
       "8. 0.127784783522488\n",
       "9. 0.138112973308504\n",
       "10. 0.130326656808711\n",
       "11. 0.15332776385408\n",
       "12. 0.127727272727273\n",
       "13. 0.107448325017819\n",
       "14. 0.143998078424308\n",
       "15. 0.118049615055603\n",
       "16. 0.158890290037831\n",
       "17. 0.160182331792501\n",
       "18. 0.102701043585021\n",
       "19. 0.176643091254097\n",
       "20. 0.124031007751938\n",
       "21. 0.162615101289134\n",
       "22. 0.124860426929392\n",
       "23. 0.148373235113567\n",
       "24. 0.142116802870241\n",
       "25. 0.18159645232816\n",
       "26. 0.115407460204324\n",
       "27. 0.102717427413461\n",
       "28. 0.0990712074303406\n",
       "29. 0.113750767341928\n",
       "30. 0.0993660159437574\n",
       "31. 0.165143164403818\n",
       "32. 0.148896103896104\n",
       "33. 0.114671577655003\n",
       "34. 0.173596059113301\n",
       "35. 0.13799671592775\n",
       "36. 0.155536181342633\n",
       "37. 0.165190035952748\n",
       "38. 0.177532228360958\n",
       "39. 0.150767341927563\n",
       "40. 0.139846378467593\n",
       "41. 0.117207792207792\n",
       "42. 0.152272727272727\n",
       "43. 0.153034963279141\n",
       "44. 0.168978720733162\n",
       "45. 0.164955263315919\n",
       "46. 0.162790697674419\n",
       "47. 0.127224958949097\n",
       "48. 0.150841174793271\n",
       "49. 0.123443008225617\n",
       "50. 0.146600985221675\n",
       "\n",
       "\n"
      ],
      "text/plain": [
       " [1] 0.12265673 0.14225002 0.13477492 0.13450292 0.14187774 0.16409573\n",
       " [7] 0.11198686 0.12778478 0.13811297 0.13032666 0.15332776 0.12772727\n",
       "[13] 0.10744833 0.14399808 0.11804962 0.15889029 0.16018233 0.10270104\n",
       "[19] 0.17664309 0.12403101 0.16261510 0.12486043 0.14837324 0.14211680\n",
       "[25] 0.18159645 0.11540746 0.10271743 0.09907121 0.11375077 0.09936602\n",
       "[31] 0.16514316 0.14889610 0.11467158 0.17359606 0.13799672 0.15553618\n",
       "[37] 0.16519004 0.17753223 0.15076734 0.13984638 0.11720779 0.15227273\n",
       "[43] 0.15303496 0.16897872 0.16495526 0.16279070 0.12722496 0.15084117\n",
       "[49] 0.12344301 0.14660099"
      ]
     },
     "metadata": {},
     "output_type": "display_data"
    }
   ],
   "source": [
    "# print the efficiencies and connectivity scores for each of the N random graphs\n",
    "effs\n",
    "nei\n",
    "nei2"
   ]
  },
  {
   "cell_type": "code",
   "execution_count": 29,
   "metadata": {},
   "outputs": [
    {
     "data": {
      "text/html": [
       "0.972370287055602"
      ],
      "text/latex": [
       "0.972370287055602"
      ],
      "text/markdown": [
       "0.972370287055602"
      ],
      "text/plain": [
       "[1] 0.9723703"
      ]
     },
     "metadata": {},
     "output_type": "display_data"
    },
    {
     "data": {
      "text/html": [
       "<ol class=list-inline>\n",
       "\t<li>0.0343822843822844</li>\n",
       "\t<li>0.176864801864802</li>\n",
       "</ol>\n"
      ],
      "text/latex": [
       "\\begin{enumerate*}\n",
       "\\item 0.0343822843822844\n",
       "\\item 0.176864801864802\n",
       "\\end{enumerate*}\n"
      ],
      "text/markdown": [
       "1. 0.0343822843822844\n",
       "2. 0.176864801864802\n",
       "\n",
       "\n"
      ],
      "text/plain": [
       "[1] 0.03438228 0.17686480"
      ]
     },
     "metadata": {},
     "output_type": "display_data"
    }
   ],
   "source": [
    "# Finally, print the efficiency score and connectivity scores for the Autism Interactome\n",
    "efficiency(get.adjacency(HS.stree,sparse=F))\n",
    "c.scores(HS.stree)"
   ]
  },
  {
   "cell_type": "markdown",
   "metadata": {},
   "source": [
    "# Identifying New Candidate Genes"
   ]
  },
  {
   "cell_type": "code",
   "execution_count": 30,
   "metadata": {
    "collapsed": true
   },
   "outputs": [],
   "source": [
    "# compute the betweeness centrality scores for each node\n",
    "betweeness_centrality_scores = igraph::betweenness(HS.stree)\n",
    "# now identify only those NOT already known to be significant\n",
    "significant_centrality = c()\n",
    "count = 0\n",
    "for (i in 1:length(betweeness_centrality_scores)){\n",
    "if (!(as.numeric(names(betweeness_centrality_scores[i])) %in% signif.ids)) {\n",
    "significant_centrality = c(significant_centrality,\n",
    "betweeness_centrality_scores[i])\n",
    "}\n",
    "}"
   ]
  },
  {
   "cell_type": "code",
   "execution_count": 31,
   "metadata": {},
   "outputs": [
    {
     "data": {
      "text/html": [
       "49"
      ],
      "text/latex": [
       "49"
      ],
      "text/markdown": [
       "49"
      ],
      "text/plain": [
       "[1] 49"
      ]
     },
     "metadata": {},
     "output_type": "display_data"
    }
   ],
   "source": [
    "# Sorting\n",
    "significant_centrality = sort(significant_centrality, decreasing=TRUE)\n",
    "length(significant_centrality)"
   ]
  }
 ],
 "metadata": {
  "kernelspec": {
   "display_name": "R",
   "language": "R",
   "name": "ir"
  },
  "language_info": {
   "codemirror_mode": "r",
   "file_extension": ".r",
   "mimetype": "text/x-r-source",
   "name": "R",
   "pygments_lexer": "r",
   "version": "3.4.2"
  }
 },
 "nbformat": 4,
 "nbformat_minor": 2
}
